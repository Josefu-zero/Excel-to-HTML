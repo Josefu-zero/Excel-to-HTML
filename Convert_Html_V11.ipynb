{
 "cells": [
  {
   "cell_type": "markdown",
   "id": "0000b0ef",
   "metadata": {},
   "source": [
    "# Excel To HTML\n",
    "## Author: Joseph A. Jimenez J.\n",
    "## Josefu-Zero"
   ]
  },
  {
   "cell_type": "code",
   "execution_count": null,
   "id": "a0d641a0",
   "metadata": {},
   "outputs": [
    {
     "name": "stdout",
     "output_type": "stream",
     "text": [
      "Iniciando procesamiento de todos los .xlsx...\n",
      "Autenticando en https://mdmqdireccioninformatica-my.sharepoint.com/personal/cmi_dmq_quito_gob_ec con usuario cmi.dmq@quito.gob.ec\n",
      "Procesando: LibroDominioIdentidadCiudadana.xlsx\n",
      "Creando carpeta para: LibroDominioIdentidadCiudadana\n",
      "Procesando archivo: LibroDominioIdentidadCiudadana\n",
      "Procesando: LibroDominioTecnico.xlsx\n"
     ]
    },
    {
     "name": "stderr",
     "output_type": "stream",
     "text": [
      "C:\\Users\\tmp\\AppData\\Local\\Packages\\PythonSoftwareFoundation.Python.3.11_qbz5n2kfra8p0\\LocalCache\\local-packages\\Python311\\site-packages\\openpyxl\\worksheet\\_reader.py:329: UserWarning: Data Validation extension is not supported and will be removed\n",
      "  warn(msg)\n"
     ]
    },
    {
     "name": "stdout",
     "output_type": "stream",
     "text": [
      "Creando carpeta para: LibroDominioTecnico\n",
      "Procesando archivo: LibroDominioTecnico\n",
      "Procesando: LibroDominioInfraestructuraUrbana.xlsx\n"
     ]
    },
    {
     "name": "stderr",
     "output_type": "stream",
     "text": [
      "C:\\Users\\tmp\\AppData\\Local\\Packages\\PythonSoftwareFoundation.Python.3.11_qbz5n2kfra8p0\\LocalCache\\local-packages\\Python311\\site-packages\\openpyxl\\worksheet\\_reader.py:329: UserWarning: Data Validation extension is not supported and will be removed\n",
      "  warn(msg)\n"
     ]
    },
    {
     "name": "stdout",
     "output_type": "stream",
     "text": [
      "Creando carpeta para: LibroDominioInfraestructuraUrbana\n",
      "Procesando archivo: LibroDominioInfraestructuraUrbana\n",
      "Índice general creado en: html_output/indice.html\n",
      "Archivo CSS creado exitosamente en 'css/estilos.css'\n",
      "CSS generado correctamente.\n",
      "Archivo html_output/LibroDominioIdentidadCiudadana/planes-de-remediación.html modificado exitosamente\n",
      "Archivo html_output/LibroDominioIdentidadCiudadana/calidad.html modificado exitosamente\n",
      "Archivo html_output/LibroDominioIdentidadCiudadana/diccionario.html modificado exitosamente\n",
      "Archivo html_output/LibroDominioTecnico/planes-de-remediación.html modificado exitosamente\n"
     ]
    },
    {
     "name": "stderr",
     "output_type": "stream",
     "text": [
      "C:\\Users\\tmp\\AppData\\Local\\Packages\\PythonSoftwareFoundation.Python.3.11_qbz5n2kfra8p0\\LocalCache\\local-packages\\Python311\\site-packages\\openpyxl\\worksheet\\_reader.py:329: UserWarning: Data Validation extension is not supported and will be removed\n",
      "  warn(msg)\n"
     ]
    },
    {
     "name": "stdout",
     "output_type": "stream",
     "text": [
      "Archivo html_output/LibroDominioTecnico/calidad.html modificado exitosamente\n",
      "Archivo html_output/LibroDominioTecnico/diccionario.html modificado exitosamente\n",
      "Archivo html_output/LibroDominioInfraestructuraUrbana/planes-de-remediación.html modificado exitosamente\n",
      "Archivo html_output/LibroDominioInfraestructuraUrbana/calidad.html modificado exitosamente\n",
      "Archivo html_output/LibroDominioInfraestructuraUrbana/diccionario.html modificado exitosamente\n",
      "Formato aplicado a los archivos generados.\n",
      "Columnas '(Fuente Oficial)' eliminadas en html_output/LibroDominioIdentidadCiudadana/diccionario.html\n",
      "Columnas '(Fuente Oficial)' eliminadas en html_output/LibroDominioTecnico/diccionario.html\n",
      "Columnas '(Fuente Oficial)' eliminadas en html_output/LibroDominioInfraestructuraUrbana/diccionario.html\n",
      "Formato aplicado a los archivos generados.\n"
     ]
    }
   ],
   "source": [
    "from converthtml import procesar_todos_los_excel\n",
    "from formato import convert_second_row_to_subheader, delete_fuenteoficial\n",
    "from crearcss import crear_css\n",
    "\n",
    "if __name__ == \"__main__\":\n",
    "    print(\"Iniciando procesamiento de todos los .xlsx...\")\n",
    "    indice_general = procesar_todos_los_excel()\n",
    "    \n",
    "    if indice_general:\n",
    "        #crear_css()\n",
    "        #print(\"CSS generado correctamente.\")\n",
    "        \n",
    "        # Aplicar formato a los archivos generados\n",
    "        for item in indice_general:\n",
    "            archivos_a_procesar = [\n",
    "                    'planes-de-remediación.html',\n",
    "                    'calidad.html',\n",
    "                    'diccionario.html'\n",
    "                ]\n",
    "            for archivo in archivos_a_procesar:\n",
    "                convert_second_row_to_subheader(f\"html_output/{item['nombre']}/{archivo}\")\n",
    "        \n",
    "        #Elminina datos confidenciales de los diccionarios\n",
    "        print(\"Formato aplicado a los archivos generados.\")\n",
    "        for item in indice_general:\n",
    "            delete_fuenteoficial(f\"html_output/{item['nombre']}/diccionario.html\")\n",
    "        print(\"Formato aplicado a los archivos generados.\")\n",
    "    else:\n",
    "        print(\"No se procesaron archivos.\")"
   ]
  },
  {
   "cell_type": "code",
   "execution_count": null,
   "id": "4bf87090",
   "metadata": {},
   "outputs": [],
   "source": []
  }
 ],
 "metadata": {
  "kernelspec": {
   "display_name": "Python 3",
   "language": "python",
   "name": "python3"
  },
  "language_info": {
   "codemirror_mode": {
    "name": "ipython",
    "version": 3
   },
   "file_extension": ".py",
   "mimetype": "text/x-python",
   "name": "python",
   "nbconvert_exporter": "python",
   "pygments_lexer": "ipython3",
   "version": "3.11.9"
  }
 },
 "nbformat": 4,
 "nbformat_minor": 5
}
