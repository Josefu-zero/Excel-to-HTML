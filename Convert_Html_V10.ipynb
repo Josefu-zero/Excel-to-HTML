{
 "cells": [
  {
   "cell_type": "markdown",
   "id": "0000b0ef",
   "metadata": {},
   "source": [
    "# Excel To HTML\n",
    "## Author: Joseph A. Jimenez J.\n",
    "## Josefu-Zero"
   ]
  },
  {
   "cell_type": "code",
   "execution_count": 1,
   "id": "a0d641a0",
   "metadata": {},
   "outputs": [
    {
     "name": "stdout",
     "output_type": "stream",
     "text": [
      "Procesando archivo Excel desde Sharepoint\n"
     ]
    },
    {
     "name": "stderr",
     "output_type": "stream",
     "text": [
      "C:\\Users\\tmp\\AppData\\Local\\Packages\\PythonSoftwareFoundation.Python.3.11_qbz5n2kfra8p0\\LocalCache\\local-packages\\Python311\\site-packages\\openpyxl\\worksheet\\_reader.py:329: UserWarning: Data Validation extension is not supported and will be removed\n",
      "  warn(msg)\n"
     ]
    },
    {
     "name": "stdout",
     "output_type": "stream",
     "text": [
      "Procesando archivo: Libro%20Dominio%20Infraestructura%20Urbana\n",
      "Proceso completado. Se generaron 5 archivos HTML.\n",
      "Archivo índice creado en: html_output/index.html\n",
      "Archivo CSS creado exitosamente en 'css/estilos.css'\n",
      "CSS generado correctamente.\n",
      "Archivo html_output/planes-de-remediación.html modificado exitosamente\n",
      "Archivo html_output/calidad.html modificado exitosamente\n",
      "Archivo html_output/diccionario.html modificado exitosamente\n"
     ]
    }
   ],
   "source": [
    "from converthtml import excel_a_html_multiple\n",
    "from crearcss import crear_css\n",
    "from formato import convert_second_row_to_subheader\n",
    "\n",
    "if __name__ == \"__main__\":\n",
    "\n",
    "    print(\"Procesando archivo Excel desde Sharepoint\")\n",
    "    indice = excel_a_html_multiple()\n",
    "    print(f\"Proceso completado. Se generaron {len(indice)} archivos HTML.\")\n",
    "    print(f\"Archivo índice creado en: html_output/index.html\")\n",
    "    #Crear el CSS\n",
    "    crear_css()\n",
    "    print(\"CSS generado correctamente.\")\n",
    "    #Dar formato a las tablas\n",
    "    archivos_a_procesar = [\n",
    "        'html_output/planes-de-remediación.html',\n",
    "        'html_output/calidad.html',\n",
    "        'html_output/diccionario.html'\n",
    "    ]\n",
    "    for archivo in archivos_a_procesar:\n",
    "        convert_second_row_to_subheader(archivo)\n",
    "        "
   ]
  },
  {
   "cell_type": "code",
   "execution_count": null,
   "id": "0a49dd46",
   "metadata": {},
   "outputs": [],
   "source": []
  }
 ],
 "metadata": {
  "kernelspec": {
   "display_name": "Python 3",
   "language": "python",
   "name": "python3"
  },
  "language_info": {
   "codemirror_mode": {
    "name": "ipython",
    "version": 3
   },
   "file_extension": ".py",
   "mimetype": "text/x-python",
   "name": "python",
   "nbconvert_exporter": "python",
   "pygments_lexer": "ipython3",
   "version": "3.11.9"
  }
 },
 "nbformat": 4,
 "nbformat_minor": 5
}
